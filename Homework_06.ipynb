{
  "cells": [
    {
      "cell_type": "markdown",
      "metadata": {
        "id": "view-in-github",
        "colab_type": "text"
      },
      "source": [
        "<a href=\"https://colab.research.google.com/github/Siobhan-C/pandas-challenge/blob/main/Homework_06.ipynb\" target=\"_parent\"><img src=\"https://colab.research.google.com/assets/colab-badge.svg\" alt=\"Open In Colab\"/></a>"
      ]
    },
    {
      "cell_type": "markdown",
      "metadata": {
        "id": "h4g4xTESLSOo"
      },
      "source": [
        "\n",
        "\n",
        "# Homework 06: Decision Trees\n",
        "\n",
        "So far in this module, we have built a solid foundation in machine learning by focusing on linear regression and addressing a key challenge—the **model selection problem.** We have learned how to choose the right model, measure its performance, and fine-tune its parameters so that the model generalizes well to new data.\n",
        "\n",
        "This week, we turn our attention to a fundamentally different model: **decision trees.** Unlike regression models, where we typically adjust at most one key parameter (for example, the degree of a polynomial), decision trees have many interacting parameters that can significantly affect performance. As we move from simpler models to more complex ones, it becomes essential to develop a **systematic workflow** for exploring the parameter space and optimizing model performance.\n",
        "\n",
        "Next week, we will build on this foundation by studying **ensemble methods,** where multiple trees work together to produce even stronger predictive models. These methods will incorporate the parameters we explore this week, along with additional ones, offering even more flexibility in tuning but raising even more challenges in your workflow.\n",
        "\n",
        "### What We Will Do in This Homework\n",
        "\n",
        "To identify the best set of parameters for a model with many adjustable settings, there are two main approaches. You can either iterate through the parameters **manually** or use **automated search tools** such as grid search or random search. However, both methods have drawbacks. Manual iteration is time-consuming and exhausting, while automated searches can provide little insight and may not cover the most promising ranges. Exhaustively searching a huge parameter space is often unrealistic.\n",
        "\n",
        "For these reasons, we will employ a two-phase strategy:\n",
        "\n",
        "- **First Phase:** Visualize the effect of the most important parameters by plotting and calculating the minimal CV RMSE scores. Adjust the range of the plots to understand how each parameter behaves on its own or in combination with closely related parameters. This phase provides valuable insights, especially in identifying regions where performance is unstable or sensitive to parameter changes.\n",
        "- **Second Phase:** Focus on the most unstable parameter ranges identified in the first phase and perform an exhaustive search within these ranges to find the optimal model configuration.\n",
        "\n",
        "The homework is divided into four problems. The first three problems cover the first phase, and the fourth problem addresses the second phase:\n",
        "\n",
        "- **Problem One:** Tune the size and shape of the decision tree by adjusting `max_depth` and `max_leaf_nodes`.\n",
        "- **Problem Two:** Explore how the `max_features` parameter can improve performance by effectively performing on-the-fly feature selection during node splits.\n",
        "- **Problem Three:** Examine how `min_samples_split` influences performance by modifying the criteria for splitting nodes.\n",
        "- **Problem Four:** Based on the insights gained, use `GridSearchCV` to zero in on the best parameter choices.\n",
        "\n",
        "Before starting this homework, please review the lesson materials, watch the video, and download the decision tree notebook. This notebook contains code that you will refactor for this assignment—**refactoring existing code is an essential skill in machine learning.**\n",
        "\n",
        "**Note:** One significant change in this homework compared to previous notebooks is the use of `RepeatedKFold` to reduce the variance of our CV MSE scoring. Further details will be provided below.\n",
        "\n",
        "### Grading\n",
        "\n",
        "This homework has eight (8) graded problems, each worth 6 points, and you get 2 points free."
      ]
    },
    {
      "cell_type": "code",
      "execution_count": null,
      "metadata": {
        "id": "OEAHl5zPLSOq"
      },
      "outputs": [],
      "source": [
        "# Useful imports\n",
        "\n",
        "import os\n",
        "import kagglehub\n",
        "import pandas as pd\n",
        "import numpy as np\n",
        "import matplotlib.pyplot as plt\n",
        "import requests\n",
        "import io\n",
        "import zipfile\n",
        "import time\n",
        "\n",
        "from sklearn.model_selection import train_test_split, cross_val_score, RepeatedKFold,GridSearchCV\n",
        "from sklearn.tree            import DecisionTreeRegressor\n",
        "from sklearn.metrics         import mean_squared_error\n",
        "from tqdm                    import tqdm\n",
        "\n",
        "import matplotlib.ticker as mticker           # Optional: you can print out y axis labels as dollars.\n",
        "\n",
        "# globals\n",
        "\n",
        "random_state = 42\n",
        "\n",
        "# utility code\n",
        "\n",
        "# Completely optional:  Format y-axis labels as dollars with commas\n",
        "def dollar_format(x, pos):\n",
        "    return f'${x:,.0f}'\n",
        "\n",
        "def format_time(seconds):\n",
        "\n",
        "    # Convert seconds to hours, minutes, and remaining seconds\n",
        "    hours = int(seconds // 3600)\n",
        "    minutes = int((seconds % 3600) // 60)\n",
        "    remaining_seconds = seconds % 60\n",
        "\n",
        "    # Return a formatted string\n",
        "    if hours == 0 and minutes == 0:\n",
        "        return f\"{seconds:.2f}s\"\n",
        "    elif hours == 0:\n",
        "        return f\"{minutes}m {remaining_seconds:.2f}s\"\n",
        "\n",
        "    return f\"{hours}h {minutes}m {remaining_seconds:.2f}s\""
      ]
    },
    {
      "cell_type": "markdown",
      "metadata": {
        "id": "jJ92sAbqLSOs"
      },
      "source": [
        "### Load the Ames Housing Dataset  \n",
        "\n",
        "The code cell below will load the dataset for you.  This is the same dataset we used for Homework 05.\n",
        "\n",
        "> **Notice** that this code includes a useful optimization: **before downloading, it first\n",
        "checks whether the files already exist.** This is a essential step when working with large datasets or when building deep learning models, where training can span hours or even days. By reusing previously downloaded files or saved models, you can avoid unnecessary work and significantly speed up your workflow.\n",
        "\n",
        "For a detailed description of the dataset features, please refer to the **Appendix** in Homework 05."
      ]
    },
    {
      "cell_type": "code",
      "execution_count": null,
      "metadata": {
        "colab": {
          "base_uri": "https://localhost:8080/"
        },
        "id": "MF10UOqTLSOs",
        "outputId": "6002219b-8ae9-4b2a-cd1a-6183db237a92"
      },
      "outputs": [
        {
          "name": "stdout",
          "output_type": "stream",
          "text": [
            "Dataset files already exist. Skipping download.\n",
            "Training and testing datasets loaded successfully.\n"
          ]
        }
      ],
      "source": [
        "\n",
        "data_dir = \"Ames_Dataset\"                              # Directory where files will be stored\n",
        "\n",
        "# Check if one of the files exists; if not, download and extract the zip file\n",
        "\n",
        "if not os.path.exists( os.path.join(data_dir, \"X_train.csv\") ):\n",
        "    print(\"Dataset files not found. Downloading...\")\n",
        "    zip_url = \"https://www.cs.bu.edu/fac/snyder/cs505/Data/ames_housing.zip\"\n",
        "    try:\n",
        "        response = requests.get(zip_url)\n",
        "        response.raise_for_status()  # Raise an error for bad status codes\n",
        "        # Extract the zip file into the designated directory\n",
        "        with zipfile.ZipFile(io.BytesIO(response.content)) as zipf:\n",
        "            zipf.extractall(data_dir)\n",
        "        print(\"Files downloaded and extracted successfully.\")\n",
        "    except requests.exceptions.RequestException as e:\n",
        "        print(f\"Error downloading the file: {e}\")\n",
        "else:\n",
        "    print(\"Dataset files already exist. Skipping download.\")\n",
        "\n",
        "# Load the datasets\n",
        "X_train = pd.read_csv(os.path.join(data_dir, \"X_train.csv\"))\n",
        "X_test  = pd.read_csv(os.path.join(data_dir, \"X_test.csv\"))\n",
        "y_train = pd.read_csv(os.path.join(data_dir, \"y_train.csv\")).squeeze(\"columns\")\n",
        "y_test  = pd.read_csv(os.path.join(data_dir, \"y_test.csv\")).squeeze(\"columns\")\n",
        "\n",
        "print(\"Training and testing datasets loaded successfully.\")\n"
      ]
    },
    {
      "cell_type": "markdown",
      "metadata": {
        "id": "ecafYfERLSOs"
      },
      "source": [
        "## Prelude: Wrapper Function for DecisionTreeRegressor\n",
        "\n",
        "In the next cell, you'll find the code from the video notebook that wraps together the model, CV scoring, and tree visualization (though visualization is not used in this homework). We made a few minor modifications:\n",
        "\n",
        "- Expanded the list of parameters to include the full set with default values.\n",
        "- Employed `RepeatedKFold` to perform 5-fold CV repeated 10 times, yielding 50 MSE scores for averaging instead of just 5.\n",
        "- Set the default value for `random_state` to 42.\n",
        "- Set the default value for the `visualize` parameter to `False`."
      ]
    },
    {
      "cell_type": "code",
      "execution_count": null,
      "metadata": {
        "id": "DNRpzQ1fLSOs"
      },
      "outputs": [],
      "source": [
        "# Already provided: the code for run_decision_tree_regressor from the video notebook for week 6 with changes as noted\n",
        "\n",
        "# Wrapper around DecisionTreeRegressor with cross-validation\n",
        "def run_decision_tree_regressor(X_train,\n",
        "                                y_train,\n",
        "                                criterion                = 'squared_error',  # Default parameters for DecisionTreeRegressor\n",
        "                                splitter                 = 'best',\n",
        "                                max_depth                = None,\n",
        "                                min_samples_split        = 2,\n",
        "                                min_samples_leaf         = 1,\n",
        "                                min_weight_fraction_leaf = 0.0,\n",
        "                                max_features             = None,\n",
        "                                random_state             = 42,               # Not the default, but we'll use it consistently for reproducibility\n",
        "                                max_leaf_nodes           = None,\n",
        "                                min_impurity_decrease    = 0.0,\n",
        "                                ccp_alpha                = 0.0,\n",
        "                                n_jobs                   = -1,               # Additional parameters for CV and display of plot and results\n",
        "                                visualize                = False\n",
        "                               ):\n",
        "\n",
        "    # Initialize the DecisionTreeRegressor\n",
        "    decision_tree_model = DecisionTreeRegressor(criterion                = criterion,\n",
        "                                                splitter                 = splitter,\n",
        "                                                max_depth                = max_depth,\n",
        "                                                min_samples_split        = min_samples_split,\n",
        "                                                min_samples_leaf         = min_samples_leaf,\n",
        "                                                min_weight_fraction_leaf = min_weight_fraction_leaf,\n",
        "                                                max_features             = max_features,\n",
        "                                                random_state             = random_state,\n",
        "                                                max_leaf_nodes           = max_leaf_nodes,\n",
        "                                                min_impurity_decrease    = min_impurity_decrease,\n",
        "                                                ccp_alpha                = ccp_alpha\n",
        "                                               )\n",
        "\n",
        "    repeated_cv = RepeatedKFold(random_state=42)    # This will perform 5-fold CV 10 times and return 50 floats instead of 5 as before\n",
        "\n",
        "    # Perform cross-validation and return mean CV MSE\n",
        "    neg_mse_scores = cross_val_score(decision_tree_model,\n",
        "                                     X_train, y_train,\n",
        "                                     scoring='neg_mean_squared_error',\n",
        "                                     cv=repeated_cv,\n",
        "                                     n_jobs=n_jobs)\n",
        "\n",
        "    mean_cv_mse = -np.mean(neg_mse_scores)  # Convert negative MSE back to positive\n",
        "\n",
        "    # Train the model on the full training set for visualization purposes\n",
        "    if visualize:\n",
        "        decision_tree_model.fit(X_train, y_train)  # Train on full training data for visualization\n",
        "        plt.figure(figsize=(12, 6))\n",
        "        plot_tree(decision_tree_model, feature_names=feature_names, filled=True, rounded=True, precision=4)\n",
        "        plt.title(f\"Decision Tree Structure (max_depth={max_depth})\")\n",
        "        plt.show()\n",
        "\n",
        "    return mean_cv_mse\n"
      ]
    },
    {
      "cell_type": "markdown",
      "metadata": {
        "id": "CjzKj5mXLSOt"
      },
      "source": [
        "## Problem One: Controlling the Decision Tree's Shape with `max_depth` and `max_leaf_nodes`\n",
        "\n",
        "In this problem, you will explore how the structure of a decision tree impacts its performance, using the cross-validated RMSE as the evaluation metric. Answer the following questions:\n",
        "\n",
        "**A.** How does the baseline model (with default parameters, except for `random_state=42`) perform on the dataset?\n",
        "\n",
        "**B.** When adjusting only the `max_depth` parameter, which depth produces the lowest CV RMSE?\n",
        "\n",
        "**C.** When adjusting only the `max_leaf_nodes` parameter, which value results in the best performance?\n",
        "\n",
        "**D.** Can a combination of `max_depth` and `max_leaf_nodes` yield a lower CV RMSE than optimizing either parameter independently?\n",
        "\n",
        "For parts **B** and **C**, you will modify the code from the video notebook with minimal changes. For part **D**, you'll use `GridSearchCV` to systematically evaluate various combinations of these two parameters."
      ]
    },
    {
      "cell_type": "markdown",
      "metadata": {
        "id": "CnOzvZawLSOt"
      },
      "source": [
        "### Part 1.A\n",
        "\n",
        "In the next cell, use `run_decision_tree_regressor` to establish a baseline CV RMSE score for the **training set.** Keep all the parameters at their default.\n",
        "\n",
        "Note: Make sure you report the RMSE; `run_decision_tree_regressor` returns the MSE."
      ]
    },
    {
      "cell_type": "code",
      "execution_count": null,
      "metadata": {
        "colab": {
          "base_uri": "https://localhost:8080/"
        },
        "id": "E721QltLLSOt",
        "outputId": "386363a7-2aeb-4b61-8d11-2c8b64215101"
      },
      "outputs": [
        {
          "name": "stdout",
          "output_type": "stream",
          "text": [
            "Baseline RMSE: 38773.1748\n"
          ]
        }
      ],
      "source": [
        "# Your code here\n",
        "baseline_mse = run_decision_tree_regressor(X_train, y_train)\n",
        "baseline_rmse = np.sqrt(baseline_mse)\n",
        "print(f\"Baseline RMSE: {baseline_rmse:.4f}\")\n"
      ]
    },
    {
      "cell_type": "markdown",
      "metadata": {
        "id": "rMRQm-kWLSOt"
      },
      "source": [
        "### Problem 1.A Graded Answer"
      ]
    },
    {
      "cell_type": "code",
      "execution_count": null,
      "metadata": {
        "colab": {
          "base_uri": "https://localhost:8080/"
        },
        "id": "sNEVSusKLSOt",
        "outputId": "f164efcd-2144-4efc-e08a-afc25ba70fda"
      },
      "outputs": [
        {
          "name": "stdout",
          "output_type": "stream",
          "text": [
            "a1a = $38,773.17\n"
          ]
        }
      ],
      "source": [
        "# TODO:  Set the variable to the baseline CV RMSE score\n",
        "\n",
        "a1a = 38773.1748                               # Just to get it to run without error; your answer here\n",
        "\n",
        "print(f'a1a = ${a1a:,.2f}')"
      ]
    },
    {
      "cell_type": "markdown",
      "metadata": {
        "id": "jRp-OQx3LSOu"
      },
      "source": [
        "### Part 1.B\n",
        "\n",
        "In the next cell, adapt the code from the video notebook to plot CV RMSE vs max_depth with the following modifications:\n",
        "\n",
        "- Determine an appropriate range of max_depth values that zero in on the optimum. If the best value occurs at either end of your range, it indicates you may not have captured the true minimum—expand your range accordingly.\n",
        "- Update your plot labels and printout to reflect that you are reporting the root mean square error (RMSE) in dollars. Use the following line in your plotting code to format the Y-axis labels in dollars:\n",
        "  ```python\n",
        "  plt.gca().yaxis.set_major_formatter(mticker.FuncFormatter(dollar_format))\n",
        "  ```\n",
        "\n",
        "**Note:** The code in the video notebook may not always use default settings. For this experiment, ensure that all parameters except `max_depth` are set to their default values."
      ]
    },
    {
      "cell_type": "code",
      "execution_count": null,
      "metadata": {
        "colab": {
          "base_uri": "https://localhost:8080/",
          "height": 441
        },
        "id": "Vy-YdiZfLSOu",
        "outputId": "fbb2ab9d-67fb-4760-9d25-2c12b17554ce"
      },
      "outputs": [
        {
          "name": "stderr",
          "output_type": "stream",
          "text": [
            "100%|██████████| 16/16 [00:29<00:00,  1.82s/it]\n"
          ]
        },
        {
          "data": {
            "image/png": "[encoded data removed]",
            "text/plain": [
              "<Figure size 600x400 with 1 Axes>"
            ]
          },
          "metadata": {},
          "output_type": "display_data"
        }
      ],
      "source": [
        "# Cut and paste the code from the video notebook to plot and find the best max_depth\n",
        "depth_range = range(2, 18)\n",
        "mse_scores_depth = []  #MSEscores stored for max_depth (had an issue with generating a comparison; had to come back and update this code)\n",
        "\n",
        "for depth in tqdm(depth_range):\n",
        "    mse = run_decision_tree_regressor(X_train, y_train, max_depth=depth, visualize=False)\n",
        "    mse_scores_depth.append(mse)\n",
        "\n",
        "#plot title, labels, etc\n",
        "plt.figure(figsize=(6, 4))\n",
        "plt.plot(depth_range, mse_scores_depth, marker='o')\n",
        "plt.xlabel(\"Max Depth\")\n",
        "plt.ylabel(\"MSE\")\n",
        "plt.title(\"Effect of Max Depth on Decision Tree Performance\")\n",
        "plt.grid()\n",
        "plt.show()\n",
        "\n",
        "#variable assigned for best max_depth based on lowest MSE (had to come back and add this due to issue running code for other portions of #1)\n",
        "optimal_mse_from_depth = min(mse_scores_depth)  #MSE scores stored for max_depth\n",
        "optimal_depth = depth_range[np.argmin(mse_scores_depth)]  #stored max_depth\n"
      ]
    },
    {
      "cell_type": "markdown",
      "metadata": {
        "id": "T8-uaCjBLSOu"
      },
      "source": [
        "### Problem 1.B Graded Answer"
      ]
    },
    {
      "cell_type": "code",
      "execution_count": null,
      "metadata": {
        "colab": {
          "base_uri": "https://localhost:8080/"
        },
        "id": "aiqVPbzVLSOu",
        "outputId": "6936f0d2-7b63-42c7-ebeb-5f13f12a2c16"
      },
      "outputs": [
        {
          "name": "stdout",
          "output_type": "stream",
          "text": [
            "a1b = 6\n"
          ]
        }
      ],
      "source": [
        "# TODO:  Set the variable to the depth found which results in the lowest CV RMSE score\n",
        "\n",
        "a1b = 6\n",
        "\n",
        "print(f'a1b = {a1b}')"
      ]
    },
    {
      "cell_type": "markdown",
      "metadata": {
        "id": "laysXvQxLSOv"
      },
      "source": [
        "### Part 1.C\n",
        "\n",
        "Now, perform the same experiment as in Part 1.B—but this time, focus on tuning the `max_leaf_nodes` parameter.\n",
        "\n",
        "**Notes:**\n",
        "\n",
        "- Ensure that `max_depth` is set to `None` so that you can isolate the effect of `max_leaf_nodes` on limiting the size of the tree.\n",
        "- The range of values for `max_leaf_nodes` will differ considerably from that used for `max_depth`. Experiment with a wide range until you find a minimum that does not occur at either end of your tested interval.\n",
        "\n",
        "Remember to apply the same modifications as in Part 1.B, including updating your plot labels and printout to reflect that the metric is reported in dollars (using the line below to format the y-axis):\n",
        "\n",
        "```python\n",
        "plt.gca().yaxis.set_major_formatter(mticker.FuncFormatter(dollar_format))\n",
        "```\n",
        "\n",
        "After generating your plot and results, provide your answer for the graded question."
      ]
    },
    {
      "cell_type": "code",
      "execution_count": null,
      "metadata": {
        "colab": {
          "base_uri": "https://localhost:8080/",
          "height": 771
        },
        "id": "kJj69sEuLSOv",
        "outputId": "6b7e5e2c-6754-43e3-dc0c-3c84767aa453"
      },
      "outputs": [
        {
          "name": "stderr",
          "output_type": "stream",
          "text": [
            "  5%|▌         | 1/20 [00:00<00:15,  1.20it/s]"
          ]
        },
        {
          "name": "stdout",
          "output_type": "stream",
          "text": [
            "Max Leaf Nodes: 5 → MSE: 2066872747.2675\n"
          ]
        },
        {
          "name": "stderr",
          "output_type": "stream",
          "text": [
            "\r 10%|█         | 2/20 [00:02<00:18,  1.03s/it]"
          ]
        },
        {
          "name": "stdout",
          "output_type": "stream",
          "text": [
            "Max Leaf Nodes: 30 → MSE: 1437232894.5032\n"
          ]
        },
        {
          "name": "stderr",
          "output_type": "stream",
          "text": [
            "\r 15%|█▌        | 3/20 [00:03<00:19,  1.17s/it]"
          ]
        },
        {
          "name": "stdout",
          "output_type": "stream",
          "text": [
            "Max Leaf Nodes: 55 → MSE: 1381334287.9950\n"
          ]
        },
        {
          "name": "stderr",
          "output_type": "stream",
          "text": [
            "\r 20%|██        | 4/20 [00:05<00:24,  1.51s/it]"
          ]
        },
        {
          "name": "stdout",
          "output_type": "stream",
          "text": [
            "Max Leaf Nodes: 80 → MSE: 1372702106.4746\n"
          ]
        },
        {
          "name": "stderr",
          "output_type": "stream",
          "text": [
            "\r 25%|██▌       | 5/20 [00:07<00:26,  1.80s/it]"
          ]
        },
        {
          "name": "stdout",
          "output_type": "stream",
          "text": [
            "Max Leaf Nodes: 105 → MSE: 1375197778.6652\n"
          ]
        },
        {
          "name": "stderr",
          "output_type": "stream",
          "text": [
            "\r 30%|███       | 6/20 [00:09<00:24,  1.73s/it]"
          ]
        },
        {
          "name": "stdout",
          "output_type": "stream",
          "text": [
            "Max Leaf Nodes: 130 → MSE: 1385145955.2027\n"
          ]
        },
        {
          "name": "stderr",
          "output_type": "stream",
          "text": [
            "\r 35%|███▌      | 7/20 [00:10<00:22,  1.72s/it]"
          ]
        },
        {
          "name": "stdout",
          "output_type": "stream",
          "text": [
            "Max Leaf Nodes: 155 → MSE: 1393636283.1167\n"
          ]
        },
        {
          "name": "stderr",
          "output_type": "stream",
          "text": [
            "\r 40%|████      | 8/20 [00:12<00:20,  1.72s/it]"
          ]
        },
        {
          "name": "stdout",
          "output_type": "stream",
          "text": [
            "Max Leaf Nodes: 180 → MSE: 1404675558.4964\n"
          ]
        },
        {
          "name": "stderr",
          "output_type": "stream",
          "text": [
            "\r 45%|████▌     | 9/20 [00:14<00:19,  1.74s/it]"
          ]
        },
        {
          "name": "stdout",
          "output_type": "stream",
          "text": [
            "Max Leaf Nodes: 205 → MSE: 1414508033.3943\n"
          ]
        },
        {
          "name": "stderr",
          "output_type": "stream",
          "text": [
            "\r 50%|█████     | 10/20 [00:16<00:17,  1.78s/it]"
          ]
        },
        {
          "name": "stdout",
          "output_type": "stream",
          "text": [
            "Max Leaf Nodes: 230 → MSE: 1422270163.6183\n"
          ]
        },
        {
          "name": "stderr",
          "output_type": "stream",
          "text": [
            "\r 55%|█████▌    | 11/20 [00:18<00:18,  2.00s/it]"
          ]
        },
        {
          "name": "stdout",
          "output_type": "stream",
          "text": [
            "Max Leaf Nodes: 255 → MSE: 1432661561.1286\n"
          ]
        },
        {
          "name": "stderr",
          "output_type": "stream",
          "text": [
            "\r 60%|██████    | 12/20 [00:21<00:17,  2.24s/it]"
          ]
        },
        {
          "name": "stdout",
          "output_type": "stream",
          "text": [
            "Max Leaf Nodes: 280 → MSE: 1442575007.4946\n"
          ]
        },
        {
          "name": "stderr",
          "output_type": "stream",
          "text": [
            "\r 65%|██████▌   | 13/20 [00:23<00:15,  2.17s/it]"
          ]
        },
        {
          "name": "stdout",
          "output_type": "stream",
          "text": [
            "Max Leaf Nodes: 305 → MSE: 1449112044.1736\n"
          ]
        },
        {
          "name": "stderr",
          "output_type": "stream",
          "text": [
            "\r 70%|███████   | 14/20 [00:25<00:12,  2.14s/it]"
          ]
        },
        {
          "name": "stdout",
          "output_type": "stream",
          "text": [
            "Max Leaf Nodes: 330 → MSE: 1453713458.4875\n"
          ]
        },
        {
          "name": "stderr",
          "output_type": "stream",
          "text": [
            "\r 75%|███████▌  | 15/20 [00:27<00:10,  2.14s/it]"
          ]
        },
        {
          "name": "stdout",
          "output_type": "stream",
          "text": [
            "Max Leaf Nodes: 355 → MSE: 1454502540.7756\n"
          ]
        },
        {
          "name": "stderr",
          "output_type": "stream",
          "text": [
            "\r 80%|████████  | 16/20 [00:29<00:08,  2.14s/it]"
          ]
        },
        {
          "name": "stdout",
          "output_type": "stream",
          "text": [
            "Max Leaf Nodes: 380 → MSE: 1460544636.7181\n"
          ]
        },
        {
          "name": "stderr",
          "output_type": "stream",
          "text": [
            "\r 85%|████████▌ | 17/20 [00:32<00:07,  2.40s/it]"
          ]
        },
        {
          "name": "stdout",
          "output_type": "stream",
          "text": [
            "Max Leaf Nodes: 405 → MSE: 1467126122.9995\n"
          ]
        },
        {
          "name": "stderr",
          "output_type": "stream",
          "text": [
            "\r 90%|█████████ | 18/20 [00:35<00:04,  2.48s/it]"
          ]
        },
        {
          "name": "stdout",
          "output_type": "stream",
          "text": [
            "Max Leaf Nodes: 430 → MSE: 1469963401.9950\n"
          ]
        },
        {
          "name": "stderr",
          "output_type": "stream",
          "text": [
            "\r 95%|█████████▌| 19/20 [00:37<00:02,  2.41s/it]"
          ]
        },
        {
          "name": "stdout",
          "output_type": "stream",
          "text": [
            "Max Leaf Nodes: 455 → MSE: 1473425367.4747\n"
          ]
        },
        {
          "name": "stderr",
          "output_type": "stream",
          "text": [
            "100%|██████████| 20/20 [00:40<00:00,  2.01s/it]"
          ]
        },
        {
          "name": "stdout",
          "output_type": "stream",
          "text": [
            "Max Leaf Nodes: 480 → MSE: 1475629943.9539\n"
          ]
        },
        {
          "name": "stderr",
          "output_type": "stream",
          "text": [
            "\n"
          ]
        },
        {
          "data": {
            "image/png": "[encoded data removed]",
            "text/plain": [
              "<Figure size 600x400 with 1 Axes>"
            ]
          },
          "metadata": {},
          "output_type": "display_data"
        },
        {
          "name": "stdout",
          "output_type": "stream",
          "text": [
            "Optimal Max Leaf Nodes: 80\n"
          ]
        }
      ],
      "source": [
        "# Your code here\n",
        "leaf_nodes_range = range(5, 500, 25)  # Experiment with a wide range\n",
        "mse_scores = []\n",
        "\n",
        "for leaf_nodes in tqdm(leaf_nodes_range):\n",
        "    mse = run_decision_tree_regressor(X_train, y_train,\n",
        "                                      max_leaf_nodes=leaf_nodes,\n",
        "                                      max_depth=None,  # Ensure max_depth is None\n",
        "                                      visualize=False)\n",
        "    mse_scores.append(mse)\n",
        "    print(f\"Max Leaf Nodes: {leaf_nodes} → MSE: {mse:.4f}\")\n",
        "\n",
        "plt.figure(figsize=(6, 4))\n",
        "plt.plot(leaf_nodes_range, mse_scores, marker='o')\n",
        "plt.xlabel(\"Max Leaf Nodes\")\n",
        "plt.ylabel(\"MSE\")\n",
        "plt.title(\"Effect of Max Leaf Nodes on Decision Tree Performance\")\n",
        "plt.grid()\n",
        "\n",
        "# update y-axis labels to dollars\n",
        "plt.gca().yaxis.set_major_formatter(mticker.FuncFormatter(dollar_format))\n",
        "\n",
        "plt.show()\n",
        "\n",
        "#identify optimal max_leaf_nodes\n",
        "optimal_leaf_nodes = leaf_nodes_range[np.argmin(mse_scores)]\n",
        "print(f\"Optimal Max Leaf Nodes: {optimal_leaf_nodes}\")\n",
        "\n",
        "\n"
      ]
    },
    {
      "cell_type": "markdown",
      "metadata": {
        "id": "vQb85Rp5LSOv"
      },
      "source": [
        "### Problem 1.C Graded Answer"
      ]
    },
    {
      "cell_type": "code",
      "execution_count": null,
      "metadata": {
        "colab": {
          "base_uri": "https://localhost:8080/"
        },
        "id": "-ejbv9YZLSOv",
        "outputId": "ca8df4fc-8cee-485f-968f-775c3ee7744a"
      },
      "outputs": [
        {
          "name": "stdout",
          "output_type": "stream",
          "text": [
            "a1c = 1\n"
          ]
        }
      ],
      "source": [
        "# TODO:  Which method provided the best CV score?\n",
        "\n",
        "a1c =  1                                        # Answer should be 1 = max_depth or 2 = max_leaf_nodes\n",
        "\n",
        "print(f'a1c = {a1c}')"
      ]
    },
    {
      "cell_type": "markdown",
      "metadata": {
        "id": "t2a8nbr7LSOv"
      },
      "source": [
        "### Part 1.D\n",
        "\n",
        "Limiting the size of a decision tree using `max_depth` (depth) and `max_leaf_nodes` (width) affects the model in different ways. A natural question arises: is there a combination of these two parameters that yields a better score than tuning either one alone?\n",
        "\n",
        "Because the tradeoff between depth and width might not be clearly captured in a 2D plot, we'll use `GridSearchCV` to systematically explore combinations of values.\n",
        "\n",
        "**What to Do:**\n",
        "\n",
        "- In the next cell, write code that uses `GridSearchCV` to search over a grid of values for both max_depth and max_leaf_nodes.\n",
        "- Use the ranges you explored in Parts 1.B and 1.C, but also include `None` (e.g., `[None] + list(range(2, 18))`) to test whether the default setting is optimal.\n",
        "- This grid search may take a while to run, depending on your computing resources.\n",
        "- After the grid search completes, print out the top 10 results. These results will automatically include the MSE and RMSE scores.\n",
        "- Finally, display the top 10 parameter pairs (combinations of `max_depth` and `max_leaf_nodes`) that produced the best scores.\n",
        "\n",
        "**NOTE: Make sure you use `RepeatedKFold` for all experiments going forward, unless instructed otherwise.**\n",
        "\n",
        "Before you start, please review the `GridSearchCV` documentation if you haven't already done so."
      ]
    },
    {
      "cell_type": "code",
      "execution_count": null,
      "metadata": {
        "colab": {
          "base_uri": "https://localhost:8080/"
        },
        "id": "jWnSYOJFLSOw",
        "outputId": "45e4a453-8ae8-4ace-e248-925efc91a3ed"
      },
      "outputs": [
        {
          "name": "stdout",
          "output_type": "stream",
          "text": [
            "Fitting 50 folds for each of 357 candidates, totalling 17850 fits\n"
          ]
        }
      ],
      "source": [
        "# Your code here\n",
        "#define search -- incld None for default settings\n",
        "depth_range = [None] + list(range(2, 18))  # - Part 1.B\n",
        "leaf_nodes_range = [None] + list(range(5, 500, 25))  # - Part 1.C\n",
        "\n",
        "param_grid = {\n",
        "    'max_depth': depth_range,\n",
        "    'max_leaf_nodes': leaf_nodes_range\n",
        "}\n",
        "\n",
        "#decision tree model\n",
        "decision_tree = DecisionTreeRegressor(random_state=42)\n",
        "\n",
        "# RepeatedKFold for cross-validation\n",
        "repeated_cv = RepeatedKFold(n_splits=5, n_repeats=10, random_state=42)\n",
        "\n",
        "# Run GridSearchCV\n",
        "grid_search = GridSearchCV(decision_tree, param_grid,\n",
        "                           scoring='neg_mean_squared_error',\n",
        "                           cv=repeated_cv,\n",
        "                           n_jobs=-1,  # Use all processors\n",
        "                           verbose=1)\n",
        "\n",
        "grid_search.fit(X_train, y_train)\n",
        "\n",
        "# Convert negative MSE to positive\n",
        "cv_results = pd.DataFrame(grid_search.cv_results_)\n",
        "cv_results['MSE'] = -cv_results['mean_test_score']\n",
        "cv_results['RMSE'] = np.sqrt(cv_results['MSE'])\n",
        "\n",
        "# Sort results by MSE\n",
        "cv_results = cv_results.sort_values(by=\"MSE\")"
      ]
    },
    {
      "cell_type": "code",
      "execution_count": null,
      "metadata": {
        "colab": {
          "base_uri": "https://localhost:8080/"
        },
        "id": "ue4I00-Ikc_W",
        "outputId": "2e6c9fa6-5c9c-4697-9513-6258c288f71c"
      },
      "outputs": [
        {
          "name": "stdout",
          "output_type": "stream",
          "text": [
            "\n",
            " top 10 combos:\n",
            "    param_max_depth param_max_leaf_nodes           MSE          RMSE\n",
            "105               6                 None  1.360873e+09  36890.015327\n",
            "151               8                   80  1.367016e+09  36973.177841\n",
            "152               8                  105  1.369152e+09  37002.049074\n",
            "172               9                   80  1.370130e+09  37015.272088\n",
            "193              10                   80  1.371144e+09  37028.966342\n",
            "214              11                   80  1.372232e+09  37043.648727\n",
            "340              17                   80  1.372702e+09  37049.994689\n",
            "277              14                   80  1.372702e+09  37049.994689\n",
            "235              12                   80  1.372702e+09  37049.994689\n",
            "319              16                   80  1.372702e+09  37049.994689\n",
            "\n",
            " Best twoo -- max_depth = 6, max_leaf_nodes = None\n",
            " Lowest MSE -- 1,360,873,230.8511\n",
            " Corresponding RMSE --   $36,890.02\n"
          ]
        }
      ],
      "source": [
        "#show top10\n",
        "print(\"\\n top 10 combos:\")\n",
        "top_10_results = cv_results[['param_max_depth', 'param_max_leaf_nodes', 'MSE', 'RMSE']].head(10)\n",
        "print(top_10_results)\n",
        "\n",
        "#show best combos\n",
        "best_params = grid_search.best_params_\n",
        "best_mse = -grid_search.best_score_\n",
        "best_rmse = np.sqrt(best_mse)\n",
        "\n",
        "print(f\"\\n Best twoo -- max_depth = {best_params['max_depth']}, max_leaf_nodes = {best_params['max_leaf_nodes']}\")\n",
        "print(f\" Lowest MSE -- {best_mse:,.4f}\")\n",
        "print(f\" Corresponding RMSE --   ${best_rmse:,.2f}\")\n"
      ]
    },
    {
      "cell_type": "markdown",
      "metadata": {
        "id": "xr7c9DkWLSOw"
      },
      "source": [
        "### Problem 1.D Graded Answer"
      ]
    },
    {
      "cell_type": "code",
      "execution_count": null,
      "metadata": {
        "colab": {
          "base_uri": "https://localhost:8080/"
        },
        "id": "pAl4R3O5LSOw",
        "outputId": "897cce08-db39-4190-9cea-87e4152bc4e0"
      },
      "outputs": [
        {
          "name": "stdout",
          "output_type": "stream",
          "text": [
            "a1d = $36,890.02\n"
          ]
        }
      ],
      "source": [
        "# TODO:  One of these three experiments determined which parameter choices results in the best (lowest) CV RMSE score\n",
        "#        Set the variable to this best score found so far\n",
        "\n",
        "a1d = 36890.02                                # Just to get it to run without error; your answer here\n",
        "\n",
        "print(f'a1d = ${a1d:,.2f}')"
      ]
    },
    {
      "cell_type": "markdown",
      "metadata": {
        "id": "s8k_B4ewLSOw"
      },
      "source": [
        "## Problem Two: Adding Feature Selection and Randomness with max_features\n",
        "\n",
        "In this problem, you will build on the best model from Problem One by exploring the effect of the `max_features` parameter. This parameter does two key things:\n",
        "\n",
        "- It performs variable selection at the level of each split by considering only a subset of features (we will revisit this idea in Week 9).\n",
        "- It randomly chooses this subset at each split, encouraging the model to explore different parts of the feature space. This randomness can improve performance, especially when used with ensemble methods (which we will study next week).\n",
        "\n",
        "What to Do:\n",
        "\n",
        "- Use the best model from Problem One and vary only the `max_features` parameter.\n",
        "- Experiment with a range of values from 1 up to the total number of features in the dataset.\n",
        "- Print out the plot and the results, and answer the graded question as usual.\n",
        "- Do not use `GridSearchCV` for this problem.\n",
        "- Do not reset all parameters to their defaults; keep the best settings from Problem One and only change `max_features`."
      ]
    },
    {
      "cell_type": "code",
      "execution_count": null,
      "metadata": {
        "colab": {
          "background_save": true,
          "base_uri": "https://localhost:8080/"
        },
        "id": "P9aVuTERLSOw",
        "outputId": "bfa1bc81-8219-4dad-d23a-c786b6036f54"
      },
      "outputs": [
        {
          "name": "stderr",
          "output_type": "stream",
          "text": [
            "100%|██████████| 73/73 [01:04<00:00,  1.14it/s]\n"
          ]
        },
        {
          "data": {
            "image/png": "[encoded data removed]",
            "text/plain": [
              "<Figure size 800x500 with 1 Axes>"
            ]
          },
          "metadata": {},
          "output_type": "display_data"
        },
        {
          "name": "stdout",
          "output_type": "stream",
          "text": [
            "optimal max_features: 59\n",
            "lowest MSE: 1,336,976,459.0749\n",
            "corresponding RMSE: $36,564.69\n"
          ]
        }
      ],
      "source": [
        "# Your code here\n",
        "#total number of features in X_train\n",
        "total_features = X_train.shape[1]\n",
        "\n",
        "#define range of max_features to test\n",
        "max_features_range = list(range(1, total_features + 1))\n",
        "\n",
        "#stre outputs\n",
        "mse_scores_max_features = []\n",
        "\n",
        "#loop through different max_features values\n",
        "for max_feat in tqdm(max_features_range):\n",
        "    mse = run_decision_tree_regressor(X_train, y_train,\n",
        "                                      max_depth=6,               # Best from Problem One\n",
        "                                      max_leaf_nodes=None,       # Best from Problem One\n",
        "                                      max_features=max_feat,     # Varying only max_features\n",
        "                                      visualize=False)\n",
        "\n",
        "    mse_scores_max_features.append(mse)\n",
        "\n",
        "#cnvert MSE to RMSE for better interpretability\n",
        "rmse_scores_max_features = [np.sqrt(mse) for mse in mse_scores_max_features]\n",
        "\n",
        "#plot\n",
        "plt.figure(figsize=(8, 5))\n",
        "plt.plot(max_features_range, rmse_scores_max_features, marker='o', linestyle='-')\n",
        "plt.xlabel(\"Max Features\")\n",
        "plt.ylabel(\"RMSE\")\n",
        "plt.title(\"Effect of max_features on Decision Tree Performance\")\n",
        "plt.grid()\n",
        "plt.show()\n",
        "\n",
        "#get the best max_features value\n",
        "optimal_max_features = max_features_range[np.argmin(mse_scores_max_features)]\n",
        "optimal_mse = min(mse_scores_max_features)\n",
        "optimal_rmse = np.sqrt(optimal_mse)\n",
        "\n",
        "#prnt best result\n",
        "print(f\"optimal max_features: {optimal_max_features}\")\n",
        "print(f\"lowest MSE: {optimal_mse:,.4f}\")\n",
        "print(f\"corresponding RMSE: ${optimal_rmse:,.2f}\")\n",
        "\n",
        "\n"
      ]
    },
    {
      "cell_type": "markdown",
      "metadata": {
        "id": "ljE4Bt1bLSOw"
      },
      "source": [
        "### Problem 2 Graded Answer"
      ]
    },
    {
      "cell_type": "code",
      "execution_count": null,
      "metadata": {
        "colab": {
          "background_save": true
        },
        "id": "EBQpYf1TLSOw",
        "outputId": "fa634cd3-a360-4a27-ef5a-5f3ddddceb78"
      },
      "outputs": [
        {
          "name": "stdout",
          "output_type": "stream",
          "text": [
            "a2 = $36,564.69\n"
          ]
        }
      ],
      "source": [
        "# TODO:  This *should* have produced an improvement in the score. Assign the variable to this new, improved CV RMSE score\n",
        "\n",
        "a2 =  36564.69                                # Just to get it to run without error; your answer here\n",
        "\n",
        "print(f'a2 = ${a2:,.2f}')"
      ]
    },
    {
      "cell_type": "markdown",
      "metadata": {
        "id": "GRVPAP8ILSOw"
      },
      "source": [
        "## Problem Three: Controlling Node Splitting with min_samples_split\n",
        "\n",
        "In this problem, you will investigate how the min_samples_split parameter affects your decision tree’s performance. Using the best model configuration obtained from Problems One and Two, vary only the `min_samples_split` parameter while keeping all other parameters fixed.\n",
        "\n",
        "**What to Do:**\n",
        "\n",
        "- As before, experiment with different values of `min_samples_split`, starting with a lower bound of 2.\n",
        "- Plot the CV RMSE against the different values of `min_samples_split` and print out your results.\n",
        "- Do not use `GridSearchCV` for this experiment.\n",
        "- Make sure that only the `min_samples_split` parameter is varied; all other parameters should remain at the best settings you’ve found so far.\n",
        "- Finally, answer the graded question based on your findings.\n"
      ]
    },
    {
      "cell_type": "code",
      "execution_count": null,
      "metadata": {
        "colab": {
          "background_save": true
        },
        "id": "kRlxgo1hLSOw",
        "outputId": "15b9678d-a68b-446e-b2d0-358b6aad56fd"
      },
      "outputs": [
        {
          "name": "stderr",
          "output_type": "stream",
          "text": [
            "100%|██████████| 25/25 [00:27<00:00,  1.12s/it]\n"
          ]
        },
        {
          "data": {
            "image/png": "[encoded data removed]",
            "text/plain": [
              "<Figure size 800x500 with 1 Axes>"
            ]
          },
          "metadata": {},
          "output_type": "display_data"
        },
        {
          "name": "stdout",
          "output_type": "stream",
          "text": [
            "Optimal min_samples_split: 10\n",
            "Lowest MSE: 1,327,801,698.3521\n",
            "Corresponding RMSE: $36,439.01\n"
          ]
        }
      ],
      "source": [
        "# Your code here\n",
        "# Define the range of min_samples_split values to test\n",
        "min_samples_split_range = list(range(2, 51, 2))  # Testing values from 2 to 50 (step size 2)\n",
        "\n",
        "# Store results\n",
        "mse_scores_min_samples_split = []\n",
        "\n",
        "# Loop through different min_samples_split values\n",
        "for min_split in tqdm(min_samples_split_range):\n",
        "    mse = run_decision_tree_regressor(\n",
        "        X_train, y_train,\n",
        "        max_depth=6,                   # Best from Problem One\n",
        "        max_leaf_nodes=None,           # Best from Problem One\n",
        "        max_features=optimal_max_features,  # Best from Problem Two\n",
        "        min_samples_split=min_split,   # Varying min_samples_split\n",
        "        visualize=False\n",
        "    )\n",
        "\n",
        "    mse_scores_min_samples_split.append(mse)\n",
        "\n",
        "# Convert MSE to RMSE for better interpretability\n",
        "rmse_scores_min_samples_split = [np.sqrt(mse) for mse in mse_scores_min_samples_split]\n",
        "\n",
        "# Plot results\n",
        "plt.figure(figsize=(8, 5))\n",
        "plt.plot(min_samples_split_range, rmse_scores_min_samples_split, marker='o', linestyle='-')\n",
        "plt.xlabel(\"Min Samples Split\")\n",
        "plt.ylabel(\"RMSE\")\n",
        "plt.title(\"Effect of min_samples_split on Decision Tree Performance\")\n",
        "plt.grid()\n",
        "plt.show()\n",
        "\n",
        "# Find the best min_samples_split value\n",
        "optimal_min_samples_split = min_samples_split_range[np.argmin(mse_scores_min_samples_split)]\n",
        "optimal_mse = min(mse_scores_min_samples_split)\n",
        "optimal_rmse = np.sqrt(optimal_mse)\n",
        "\n",
        "# Print best result\n",
        "print(f\"Optimal min_samples_split: {optimal_min_samples_split}\")\n",
        "print(f\"Lowest MSE: {optimal_mse:,.4f}\")\n",
        "print(f\"Corresponding RMSE: ${optimal_rmse:,.2f}\")\n",
        "\n"
      ]
    },
    {
      "cell_type": "markdown",
      "metadata": {
        "id": "wKR240--LSOw"
      },
      "source": [
        "### Problem 3 Graded Answer"
      ]
    },
    {
      "cell_type": "code",
      "execution_count": null,
      "metadata": {
        "colab": {
          "background_save": true
        },
        "id": "6cZZFk-iLSOw",
        "outputId": "54745136-088a-48b7-a69f-e789887ffe3c"
      },
      "outputs": [
        {
          "name": "stdout",
          "output_type": "stream",
          "text": [
            "a3 = $36,439.01\n"
          ]
        }
      ],
      "source": [
        "# TODO:  Assign the variable to this best CV RMSE score.\n",
        "\n",
        "a3 = 36439.01                                # Just to get it to run without error; your answer here\n",
        "\n",
        "print(f'a3 = ${a3:,.2f}')"
      ]
    },
    {
      "cell_type": "markdown",
      "metadata": {
        "id": "I7BRyLg_LSOw"
      },
      "source": [
        "## **Problem Four: Fine-Tuning Your Model**\n",
        "\n",
        "Now that we have a solid understanding of how our parameters influence model performance, it’s time to refine our search. Instead of testing large parameter ranges blindly, we will **use insights from previous experiments** to focus on the most promising values—balancing accuracy with computational efficiency.\n",
        "\n",
        "### **Our Strategy**\n",
        "Rather than searching the entire parameter space, we aim to **narrow down** our grid search to ranges where the optimal model is most likely to be found. The goal is to **eliminate unlikely parameter values** while still thoroughly exploring regions of uncertainty. Consider these two plots:\n",
        "\n",
        "\n",
        "![Screenshot 2025-02-21 at 4.32.59 PM.png](attachment:290c722e-d32b-40fe-a11f-89abf2304b60.png)\n",
        "\n",
        "\n",
        "![Screenshot 2025-02-21 at 4.33.12 PM.png](attachment:c7e9469b-0e74-4fbe-91b7-40b0c4b802e4.png)\n",
        "\n",
        "For example:\n",
        "- In the first plot, there is a clear performance plateau, so searching outside the highlighted range is likely unnecessary.\n",
        "- In the second plot, the best region is less obvious, so we could not eliminate any part of the space from consideration.\n",
        "\n",
        "### **What to Do**\n",
        "- Using insights from **Problems One through Three**, select **refined parameter ranges** for the three key parameters.\n",
        "- Perform a **grid search** over these restricted ranges.\n",
        "- Print out the **top 10 results** as before.\n",
        "- Summarize your findings and answer the graded questions.\n"
      ]
    },
    {
      "cell_type": "markdown",
      "metadata": {
        "id": "rRUyhMZiLSOx"
      },
      "source": [
        "### Problem 4 Graded Answers"
      ]
    },
    {
      "cell_type": "code",
      "execution_count": null,
      "metadata": {
        "colab": {
          "background_save": true
        },
        "id": "kzztWZ46qupy",
        "outputId": "418055fb-7642-42f5-84e8-025de9bb18c2"
      },
      "outputs": [
        {
          "name": "stdout",
          "output_type": "stream",
          "text": [
            "Fitting 50 folds for each of 27 candidates, totalling 1350 fits\n",
            "\top 5 Fine-Tuned Parameter Combinations:\n",
            "    param_max_depth  param_max_features  param_min_samples_split  \\\n",
            "22                7                  59                       10   \n",
            "13                6                  59                       10   \n",
            "19                7                  57                       10   \n",
            "25                7                  61                       10   \n",
            "24                7                  61                        8   \n",
            "\n",
            "             MSE          RMSE  \n",
            "22  1.321267e+09  36349.236664  \n",
            "13  1.327802e+09  36439.013411  \n",
            "19  1.343095e+09  36648.254774  \n",
            "25  1.349172e+09  36731.071194  \n",
            "24  1.351481e+09  36762.493683  \n",
            "\n",
            " Best Fine-Tuned Combination: max_depth = 7, max_features = 59, min_samples_split = 10\n",
            "Lowest Fine-Tuned MSE: 1,321,267,006.0749\n",
            "Corresponding Fine-Tuned RMSE: $36,349.24\n"
          ]
        }
      ],
      "source": [
        "# Your code here\n",
        "#define refined search based on previous results\n",
        "param_grid_refined = {\n",
        "    'max_depth': [5, 6, 7],  # Narrow range around best depth\n",
        "    'max_leaf_nodes': [None],  # Already determined None is best\n",
        "    'max_features': [57, 59, 61],  # Small range around best max_features\n",
        "    'min_samples_split': [8, 10, 12],  # Fine-tuning around best split\n",
        "}\n",
        "\n",
        "#create decision tree model\n",
        "decision_tree = DecisionTreeRegressor(random_state=42)\n",
        "\n",
        "#RepeatedKFold for cross-validation\n",
        "repeated_cv = RepeatedKFold(n_splits=5, n_repeats=10, random_state=42)\n",
        "\n",
        "#rn GridSearchCV\n",
        "grid_search_refined = GridSearchCV(decision_tree, param_grid_refined,\n",
        "                                   scoring='neg_mean_squared_error',\n",
        "                                   cv=repeated_cv,\n",
        "                                   n_jobs=-1,  # Use all processors\n",
        "                                   verbose=1)\n",
        "\n",
        "grid_search_refined.fit(X_train, y_train)\n",
        "\n",
        "#convert negative MSE to positive\n",
        "cv_results_refined = pd.DataFrame(grid_search_refined.cv_results_)\n",
        "cv_results_refined['MSE'] = -cv_results_refined['mean_test_score']\n",
        "cv_results_refined['RMSE'] = np.sqrt(cv_results_refined['MSE'])\n",
        "\n",
        "#now sort results by MSE\n",
        "cv_results_refined = cv_results_refined.sort_values(by=\"MSE\")\n",
        "\n",
        "#top 5 best results\n",
        "print(\"\\top 5 Fine-Tuned Parameter Combinations:\")\n",
        "print(cv_results_refined[['param_max_depth', 'param_max_features', 'param_min_samples_split', 'MSE', 'RMSE']].head(5))\n",
        "\n",
        "#best parameter combination\n",
        "best_params_refined = grid_search_refined.best_params_\n",
        "best_mse_refined = -grid_search_refined.best_score_\n",
        "best_rmse_refined = np.sqrt(best_mse_refined)\n",
        "\n",
        "print(f\"\\n Best Fine-Tuned Combination: max_depth = {best_params_refined['max_depth']}, \"\n",
        "      f\"max_features = {best_params_refined['max_features']}, min_samples_split = {best_params_refined['min_samples_split']}\")\n",
        "print(f\"Lowest Fine-Tuned MSE: {best_mse_refined:,.4f}\")\n",
        "print(f\"Corresponding Fine-Tuned RMSE: ${best_rmse_refined:,.2f}\")\n",
        "\n"
      ]
    },
    {
      "cell_type": "code",
      "execution_count": null,
      "metadata": {
        "colab": {
          "background_save": true
        },
        "id": "mfkETXObLSOx",
        "outputId": "ae537ea0-8939-491a-9fef-a4a5cae7c7cf"
      },
      "outputs": [
        {
          "name": "stdout",
          "output_type": "stream",
          "text": [
            "a4a = (7, 59, 10)\n"
          ]
        }
      ],
      "source": [
        "# TODO:  Set the variable to a triple of the three optimal parameter values found\n",
        "\n",
        "a4a = 7, 59, 10                            # Your answer should be a triple ( best max_depth, best max_features, best min_samples_split)\n",
        "\n",
        "print(f'a4a = {a4a}')"
      ]
    },
    {
      "cell_type": "code",
      "execution_count": null,
      "metadata": {
        "colab": {
          "background_save": true
        },
        "id": "rTFxHftwLSOx",
        "outputId": "75ee43ce-6df2-403e-ad67-6799339aaee1"
      },
      "outputs": [
        {
          "name": "stdout",
          "output_type": "stream",
          "text": [
            "a4b = $36,349.24\n"
          ]
        }
      ],
      "source": [
        "# TODO:  Set to the best CV score found by the parameters given in the previous cell.\n",
        "\n",
        "a4b = 36349.236664                                # Just to get it to run without error; your answer here\n",
        "\n",
        "print(f'a4b = ${a4b:,.2f}')"
      ]
    },
    {
      "cell_type": "markdown",
      "metadata": {
        "id": "dGC_Z7SBLSOx"
      },
      "source": [
        "## Appendix: Which DecisionTree parameters are most important?\n",
        "\n",
        "When first exploring  a complex model such as decision trees, it’s best to focus first on those parameters that most directly affect the shape of the tree and the method used for splitting nodes. Some parameters are more important than others, especially when first using a model. Here is an approximate ordering of the parameters from most significant to least. We will only experiment with the first 4 of these parameters in this homework.\n",
        "\n",
        "---\n",
        "\n",
        "1. **max_depth** (default: **None**)  \n",
        "   *Controls the maximum depth of the tree, which is crucial for managing overfitting and overall model complexity.*\n",
        "\n",
        "2. **max_leaf_nodes** (default: **None**)  \n",
        "   *An alternative to max_depth, this limits the number of leaf nodes and can be used to control tree size in a different way.*\n",
        "\n",
        "3. **max_features** (default: **None**)  \n",
        "   *Determines the maximum number of features considered when looking for the best split. Tuning this can affect the bias-variance trade-off.*\n",
        "\n",
        "4. **min_samples_split** (default: **2**)  \n",
        "   *Specifies the minimum number of samples required to split an internal node. It influences how “greedy” the tree is in creating splits.*\n",
        "\n",
        "---\n",
        "\n",
        "5. **criterion** (default: **'squared_error'**)  \n",
        "   *Chooses the function to measure the quality of a split (e.g., squared_error, absolute_error, etc.). Experimenting with this can reveal how different error metrics impact performance.*\n",
        "\n",
        "6. **splitter** (default: **'best'**)  \n",
        "   *Decides the strategy used to choose the split at each node (typically \"best\" or \"random\"). While its effect is subtler, exploring it can be educational.*\n",
        "\n",
        "7. **min_samples_leaf** (default: **1**)  \n",
        "   *Sets the minimum number of samples that must be present in a leaf. This parameter helps prevent creating leaves with very few samples, thus reducing overfitting.*\n",
        "\n",
        "\n",
        "8. **ccp_alpha** (default: **0.0**)  \n",
        "   *The complexity parameter for Minimal Cost-Complexity Pruning. It’s useful for understanding pruning techniques, though it’s a bit more advanced.*\n",
        "\n",
        "9. **min_impurity_decrease** (default: **0.0**)  \n",
        "   *A node will be split only if the split results in a decrease in impurity greater than or equal to this threshold. It provides another way to control overfitting.*\n",
        "\n",
        "10. **min_weight_fraction_leaf** (default: **0.0**)  \n",
        "    *Ensures that each leaf has a minimum weighted fraction of the total. It’s less commonly tuned but can be relevant when sample weights matter.*\n",
        "\n",
        "11. **random_state** (default: **None**)  \n",
        "    *Used only for reproducibility, traditionally as `random_state = 42`. It doesn’t affect the model’s learning, but ensures that results are consistent across runs. Set to `None` for more realistic random behavior typical for deployed systems.\n",
        "\n"
      ]
    }
  ],
  "metadata": {
    "colab": {
      "toc_visible": true,
      "provenance": [],
      "include_colab_link": true
    },
    "kernelspec": {
      "display_name": "Python 3 (ipykernel)",
      "language": "python",
      "name": "python3"
    },
    "language_info": {
      "codemirror_mode": {
        "name": "ipython",
        "version": 3
      },
      "file_extension": ".py",
      "mimetype": "text/x-python",
      "name": "python",
      "nbconvert_exporter": "python",
      "pygments_lexer": "ipython3",
      "version": "3.10.13"
    }
  },
  "nbformat": 4,
  "nbformat_minor": 0
}